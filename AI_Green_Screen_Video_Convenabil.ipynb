{
  "nbformat": 4,
  "nbformat_minor": 0,
  "metadata": {
    "accelerator": "GPU",
    "colab": {
      "name": "AI Green Screen Video Convenabil.ipynb",
      "provenance": [],
      "collapsed_sections": [],
      "toc_visible": true,
      "include_colab_link": true
    },
    "kernelspec": {
      "display_name": "Python 3",
      "name": "python3"
    },
    "language_info": {
      "name": "python"
    }
  },
  "cells": [
    {
      "cell_type": "markdown",
      "metadata": {
        "id": "view-in-github",
        "colab_type": "text"
      },
      "source": [
        "<a href=\"https://colab.research.google.com/github/B3ARBU/AI-Green-Screen/blob/main/AI_Green_Screen_Video_Convenabil.ipynb\" target=\"_parent\"><img src=\"https://colab.research.google.com/assets/colab-badge.svg\" alt=\"Open In Colab\"/></a>"
      ]
    },
    {
      "cell_type": "markdown",
      "metadata": {
        "id": "X2Rd2RrMuHl7"
      },
      "source": [
        "**Edit > Notebook settings / Runtime > Change runtime type > GPU**\n",
        "\n",
        "CTRL + F9 pentru a începe şi când apare Warning > \n",
        "RUN ANYWAY\n",
        "\n",
        "\n",
        " \n",
        "\n",
        "\n",
        "\n",
        "\n",
        "\n",
        "\n",
        "\n",
        "\n"
      ]
    },
    {
      "cell_type": "markdown",
      "metadata": {
        "id": "Bqx4vGilgZQT"
      },
      "source": [
        "# **Introducere**"
      ]
    },
    {
      "cell_type": "markdown",
      "metadata": {
        "id": "wj6h6JUf5ncw"
      },
      "source": [
        "1.   Conectează-ţi contul de Google Drive. ( Urmează paşii din engleză de mai jos )"
      ]
    },
    {
      "cell_type": "code",
      "metadata": {
        "id": "WlsbMXK8TZjA",
        "cellView": "form"
      },
      "source": [
        "#@title 1.1 Drive Mount\n",
        "from google.colab import drive \n",
        "drive.mount(\"/content/gdrive\")\n",
        "\n",
        "from IPython.display import clear_output \n",
        "clear_output()"
      ],
      "execution_count": null,
      "outputs": []
    },
    {
      "cell_type": "code",
      "metadata": {
        "id": "j09irb-CK9hS",
        "cellView": "form"
      },
      "source": [
        "#@title 1.2 Import\n",
        "from cv2 import cv2 \n",
        "from PIL import Image"
      ],
      "execution_count": null,
      "outputs": []
    },
    {
      "cell_type": "code",
      "metadata": {
        "id": "JuxzgFdOKsXS",
        "cellView": "form"
      },
      "source": [
        "#@title 1.3 Git Clone\n",
        "%cd '/content/gdrive/MyDrive'\n",
        "!git clone https://github.com/B3ARBU/AI-Green-Screen.git\n",
        "\n",
        "from IPython.display import clear_output \n",
        "clear_output()"
      ],
      "execution_count": null,
      "outputs": []
    },
    {
      "cell_type": "markdown",
      "metadata": {
        "id": "d4USyXvo6Ts3"
      },
      "source": [
        "2.   Descarcă [u2net.pth](https://drive.google.com/file/d/1qIr8f2IFZg_Z5jMKGnjR7DgwZP19B09w/view?usp=sharing) [ [Imagine](https://imgur.com/a/ymiJd6l) ]\n",
        "\n",
        "\n",
        "\n",
        "( Pasii 1.3 & 2.1 durează cel mai mult dar partea buna e că trebuie activate doar o singură dată după care puteţi trece peste aceşti paşi )\n"
      ]
    },
    {
      "cell_type": "code",
      "metadata": {
        "id": "M2XybY-UrYzo",
        "cellView": "form"
      },
      "source": [
        "#@title 2.1 Upload u2net.pth (2nd time cancel)\n",
        "%cd '/content/gdrive/MyDrive/AI-Green-Screen/saved_models/u2net'\n",
        "from google.colab import files\n",
        "uploaded = files.upload()\n",
        "\n",
        "!rm -R convenabil.txt\n",
        "\n",
        "from IPython.display import clear_output \n",
        "clear_output()\n"
      ],
      "execution_count": null,
      "outputs": []
    },
    {
      "cell_type": "markdown",
      "metadata": {
        "id": "0V9mItwmgf9c"
      },
      "source": [
        "# **Ai Green Screen Video**"
      ]
    },
    {
      "cell_type": "markdown",
      "metadata": {
        "id": "RnnudZtZ7K6O"
      },
      "source": [
        "3.   Încarcă videoclipul. ( Recomandări: format - mp4 , HD/FHD/4K , 24fps/30fps | durată < 60s | Acestea sunt recomandări, puteţi încărca orcie rezoluţie cu orice frame rate deşi un clip de 10 minute 4k 60fps poate dura o vreme... )"
      ]
    },
    {
      "cell_type": "code",
      "metadata": {
        "id": "znj5fK-0HW3v",
        "cellView": "form"
      },
      "source": [
        "#@title 3.1 Upload Video\n",
        "%cd '/content/gdrive/MyDrive/AI-Green-Screen/test_data/videos/input'\n",
        "from google.colab import files\n",
        "uploaded = files.upload()\n",
        "\n",
        "import os\n",
        "\n",
        "dst ='input.mp4' \n",
        "os.rename(list(uploaded.keys())[0], dst)\n",
        "\n",
        "from IPython.display import clear_output \n",
        "clear_output()"
      ],
      "execution_count": null,
      "outputs": []
    },
    {
      "cell_type": "code",
      "metadata": {
        "id": "toQLvNEZhtSO",
        "cellView": "form"
      },
      "source": [
        "#@title 3.2 Create Temp Files\n",
        "%cd '/content/gdrive/MyDrive/AI-Green-Screen/test_data/videos'\n",
        "!mkdir input_frames\n",
        "!mkdir output_frames \n",
        "!mkdir u2net_results\n",
        "\n",
        "from IPython.display import clear_output \n",
        "clear_output()"
      ],
      "execution_count": null,
      "outputs": []
    },
    {
      "cell_type": "code",
      "metadata": {
        "id": "j1k4U23RhyHr",
        "cellView": "form"
      },
      "source": [
        "#@title 3.3 Video Frame Split\n",
        "#SCHIMBAȚI EXTENSIA FIȘIERULUI DE INTRARE AICI - MOD IMPLICIT: .mp4\n",
        "video=cv2.VideoCapture('/content/gdrive/MyDrive/AI-Green-Screen/test_data/videos/input/input.mp4')\n",
        "fps=video.get(cv2.CAP_PROP_FPS)\n",
        "count=0\n",
        "flag=1\n",
        "while flag:\n",
        "  flag,image=video.read()\n",
        "  if flag==0:\n",
        "    break\n",
        "  cv2.imwrite('/content/gdrive/MyDrive/AI-Green-Screen/test_data/videos/input_frames/'+'input'+str(count)+'.png',image)\n",
        "  count=count+1\n"
      ],
      "execution_count": null,
      "outputs": []
    },
    {
      "cell_type": "code",
      "metadata": {
        "id": "rqm2u9zihznj",
        "cellView": "form"
      },
      "source": [
        "#@title 3.4 U2net Video\n",
        "%cd '/content/gdrive/MyDrive/AI-Green-Screen'\n",
        "!python u2net_video.py\n",
        "\n",
        "from IPython.display import clear_output \n",
        "clear_output()\n"
      ],
      "execution_count": null,
      "outputs": []
    },
    {
      "cell_type": "code",
      "metadata": {
        "id": "sXxpIrNsh8zj",
        "cellView": "form"
      },
      "source": [
        "#@title 3.5 Image Array\n",
        "img_array=[]\n",
        "\n",
        "for i in range(count):\n",
        "\n",
        "  #u2netreusult\n",
        "  u2netresult=cv2.imread('/content/gdrive/MyDrive/AI-Green-Screen/test_data/videos/u2net_results/input'+str(i)+'.png')\n",
        "  #original\n",
        "  original=cv2.imread('/content/gdrive/MyDrive/AI-Green-Screen/test_data/videos/input_frames/input'+str(i)+'.png')\n",
        "  #subimage\n",
        "  subimage=cv2.subtract(u2netresult,original)\n",
        "  cv2.imwrite('/content/gdrive/MyDrive/AI-Green-Screen/test_data/videos/output_frames/output'+str(i)+'.png',subimage)\n",
        "\n",
        "  #subimage\n",
        "  subimage=Image.open('/content/gdrive/MyDrive/AI-Green-Screen/test_data/videos/output_frames/output'+str(i)+'.png')\n",
        "  #original\n",
        "  original=Image.open('/content/gdrive/MyDrive/AI-Green-Screen/test_data/videos/input_frames/input'+str(i)+'.png')\n",
        "\n",
        "  subimage=subimage.convert(\"RGBA\")\n",
        "  original=original.convert(\"RGBA\")\n",
        "\n",
        "  subdata=subimage.getdata()\n",
        "  ogdata=original.getdata()\n",
        "\n",
        "  newdata=[]\n",
        "  for i in range(subdata.size[0]*subdata.size[1]):\n",
        "    if subdata[i][0]==0 and subdata[i][1]==0 and subdata[i][2]==0:\n",
        "      newdata.append((50,255,50,255))\n",
        "    else:\n",
        "      newdata.append(ogdata[i])\n",
        "  subimage.putdata(newdata)\n",
        "  subimage.save('/content/gdrive/MyDrive/AI-Green-Screen/test_data/videos/output_frames/output'+str(i)+'.png',\"PNG\")\n",
        "\n",
        "  final_img=cv2.imread('/content/gdrive/MyDrive/AI-Green-Screen/test_data/videos/output_frames/output'+str(i)+'.png')\n",
        "  ht,wd,l=final_img.shape\n",
        "  sz=(wd,ht)\n",
        "  img_array.append(final_img)\n"
      ],
      "execution_count": null,
      "outputs": []
    },
    {
      "cell_type": "code",
      "metadata": {
        "id": "gNp0qlb9h91l",
        "cellView": "form"
      },
      "source": [
        "#@title 3.6 Compile\n",
        "#SCHIMBAȚI EXTENSIA FIȘIERULUI DE INTRARE AICI - MOD IMPLICIT: .mp4\n",
        "outv=cv2.VideoWriter('/content/gdrive/MyDrive/AI-Green-Screen/test_data/videos/output/output.mp4',cv2.VideoWriter_fourcc(*'MP4V'),fps,sz)\n",
        "\n",
        "for i in img_array:\n",
        "  outv.write(i)\n",
        "\n",
        "outv.release()\n"
      ],
      "execution_count": null,
      "outputs": []
    },
    {
      "cell_type": "code",
      "metadata": {
        "id": "utKhatJriCJ7",
        "cellView": "form"
      },
      "source": [
        "#@title 3.7 Delete Temp Files\n",
        "%cd '/content/gdrive/MyDrive/AI-Green-Screen/test_data/videos'\n",
        "!rm -R u2net_results\n",
        "!rm -R input_frames\n",
        "!rm -R output_frames\n",
        "\n",
        "from IPython.display import clear_output \n",
        "clear_output()"
      ],
      "execution_count": null,
      "outputs": []
    },
    {
      "cell_type": "code",
      "metadata": {
        "id": "t0bbPVDBtXZq",
        "colab": {
          "base_uri": "https://localhost:8080/",
          "height": 34
        },
        "cellView": "form",
        "outputId": "d4b55352-1c4a-4437-90af-976055be5968"
      },
      "source": [
        "#@title 3.8 Download\n",
        "%cd '/content/gdrive/MyDrive/AI-Green-Screen/test_data/videos/output'\n",
        "from google.colab import files\n",
        "\n",
        "files.download('output.mp4')"
      ],
      "execution_count": null,
      "outputs": [
        {
          "output_type": "stream",
          "text": [
            "/content/gdrive/MyDrive/AI-Green-Screen/test_data/videos/output\n"
          ],
          "name": "stdout"
        },
        {
          "output_type": "display_data",
          "data": {
            "application/javascript": [
              "\n",
              "    async function download(id, filename, size) {\n",
              "      if (!google.colab.kernel.accessAllowed) {\n",
              "        return;\n",
              "      }\n",
              "      const div = document.createElement('div');\n",
              "      const label = document.createElement('label');\n",
              "      label.textContent = `Downloading \"${filename}\": `;\n",
              "      div.appendChild(label);\n",
              "      const progress = document.createElement('progress');\n",
              "      progress.max = size;\n",
              "      div.appendChild(progress);\n",
              "      document.body.appendChild(div);\n",
              "\n",
              "      const buffers = [];\n",
              "      let downloaded = 0;\n",
              "\n",
              "      const channel = await google.colab.kernel.comms.open(id);\n",
              "      // Send a message to notify the kernel that we're ready.\n",
              "      channel.send({})\n",
              "\n",
              "      for await (const message of channel.messages) {\n",
              "        // Send a message to notify the kernel that we're ready.\n",
              "        channel.send({})\n",
              "        if (message.buffers) {\n",
              "          for (const buffer of message.buffers) {\n",
              "            buffers.push(buffer);\n",
              "            downloaded += buffer.byteLength;\n",
              "            progress.value = downloaded;\n",
              "          }\n",
              "        }\n",
              "      }\n",
              "      const blob = new Blob(buffers, {type: 'application/binary'});\n",
              "      const a = document.createElement('a');\n",
              "      a.href = window.URL.createObjectURL(blob);\n",
              "      a.download = filename;\n",
              "      div.appendChild(a);\n",
              "      a.click();\n",
              "      div.remove();\n",
              "    }\n",
              "  "
            ],
            "text/plain": [
              "<IPython.core.display.Javascript object>"
            ]
          },
          "metadata": {
            "tags": []
          }
        },
        {
          "output_type": "display_data",
          "data": {
            "application/javascript": [
              "download(\"download_3c212f33-e3e6-4192-bfe4-7f0721b0b839\", \"output.mp4\", 1776853)"
            ],
            "text/plain": [
              "<IPython.core.display.Javascript object>"
            ]
          },
          "metadata": {
            "tags": []
          }
        }
      ]
    }
  ]
}